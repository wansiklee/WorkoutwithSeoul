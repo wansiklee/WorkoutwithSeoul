{
 "cells": [
  {
   "cell_type": "code",
   "execution_count": 7,
   "metadata": {},
   "outputs": [],
   "source": [
    "crawling_urls = {'공공체육시설_시설별': \"http://data.seoul.go.kr/dataList/datasetView.do?infId=OA-1116&srvType=S&serviceKind=1&currentPageNo=1&searchValue=&searchKey=null\",\n",
    "                 '산과공원': \"https://data.seoul.go.kr/dataList/datasetView.do?infId=OA-12962&srvType=A&serviceKind=1&currentPageNo=1\",\n",
    "                 '체육회': \"https://www.seoulsports.or.kr/home/homeIndex.do\",\n",
    "                 '공공체육시설_종목별': \"http://data.seoul.go.kr/dataList/datasetView.do?infId=OA-1221&srvType=S&serviceKind=1&currentPageNo=1&searchValue=&searchKey=null\",}\n",
    "\n",
    "import requests\n",
    "from selenium import webdriver\n",
    "import time\n",
    "                 \n",
    "#웹드라이버 실행 및 페이지 이동\n",
    "driver = webdriver.Chrome(r'C:\\Users\\USER\\Downloads\\chromedriver_win32\\chromedriver')\n",
    "driver.get(crawling_urls['산과공원'])\n",
    "time.sleep(10)\n",
    "\n",
    "driver.find_element_by_css_selector(\"#tabSheet\").click()\n",
    "time.sleep(5)\n",
    "    \n",
    "#csv파일 다운로드 버튼 클릭하기\n",
    "driver.find_element_by_css_selector(\"#Wrapfilter > span:nth-child(3)\").click()\n",
    "time.sleep(5)\n",
    "\n",
    "driver.quit()"
   ]
  },
  {
   "cell_type": "code",
   "execution_count": 1,
   "metadata": {},
   "outputs": [
    {
     "name": "stdout",
     "output_type": "stream",
     "text": [
      "['C:\\\\Users\\\\USER\\\\Downloads\\\\cnn_predict.csv', 'C:\\\\Users\\\\USER\\\\Downloads\\\\movie_review_result_rnn.csv', 'C:\\\\Users\\\\USER\\\\Downloads\\\\test.csv', 'C:\\\\Users\\\\USER\\\\Downloads\\\\서울시 산과공원 생태관광 정보 (한국어).csv']\n"
     ]
    },
    {
     "data": {
      "text/html": [
       "<div>\n",
       "<style scoped>\n",
       "    .dataframe tbody tr th:only-of-type {\n",
       "        vertical-align: middle;\n",
       "    }\n",
       "\n",
       "    .dataframe tbody tr th {\n",
       "        vertical-align: top;\n",
       "    }\n",
       "\n",
       "    .dataframe thead th {\n",
       "        text-align: right;\n",
       "    }\n",
       "</style>\n",
       "<table border=\"1\" class=\"dataframe\">\n",
       "  <thead>\n",
       "    <tr style=\"text-align: right;\">\n",
       "      <th></th>\n",
       "      <th>키</th>\n",
       "      <th>명칭</th>\n",
       "      <th>대분류</th>\n",
       "      <th>주소</th>\n",
       "      <th>행정 시</th>\n",
       "      <th>행정 구</th>\n",
       "      <th>행정 동</th>\n",
       "      <th>대표전화</th>\n",
       "      <th>면적</th>\n",
       "      <th>지정일</th>\n",
       "      <th>교툥안내</th>\n",
       "    </tr>\n",
       "  </thead>\n",
       "  <tbody>\n",
       "    <tr>\n",
       "      <th>0</th>\n",
       "      <td>BE_IW14-0020</td>\n",
       "      <td>진관내동 생태경관보전지역</td>\n",
       "      <td>생태탐방</td>\n",
       "      <td>은평구 진관동 282-1번지 일대(북한산국립공원 북한산성 입구 주변 습지 )</td>\n",
       "      <td>서울특별시</td>\n",
       "      <td>은평구</td>\n",
       "      <td>진관동</td>\n",
       "      <td>02-2115-7550~5 02-350-1397</td>\n",
       "      <td>16639㎡</td>\n",
       "      <td>2002년 12월 30일</td>\n",
       "      <td>지하철 3호선 구파발역 1번 출구에서 704번 34번 버스를 타고 북한산성 입구에서...</td>\n",
       "    </tr>\n",
       "    <tr>\n",
       "      <th>1</th>\n",
       "      <td>BE_IW14-0109</td>\n",
       "      <td>안산공원</td>\n",
       "      <td>산과공원</td>\n",
       "      <td>서울특별시 서대문구 홍제동 산33번지 일대</td>\n",
       "      <td>서울특별시</td>\n",
       "      <td>서대문구</td>\n",
       "      <td>홍제1동</td>\n",
       "      <td>02-330-1395</td>\n",
       "      <td>NaN</td>\n",
       "      <td>NaN</td>\n",
       "      <td>NaN</td>\n",
       "    </tr>\n",
       "    <tr>\n",
       "      <th>2</th>\n",
       "      <td>BE_IW14-0110</td>\n",
       "      <td>여의도공원</td>\n",
       "      <td>산과공원</td>\n",
       "      <td>서울특별시 영등포구 여의공원로68(여의도동 2번지)</td>\n",
       "      <td>서울특별시</td>\n",
       "      <td>영등포구</td>\n",
       "      <td>여의동</td>\n",
       "      <td>02-761-4079</td>\n",
       "      <td>NaN</td>\n",
       "      <td>NaN</td>\n",
       "      <td>NaN</td>\n",
       "    </tr>\n",
       "    <tr>\n",
       "      <th>3</th>\n",
       "      <td>BE_IW14-0111</td>\n",
       "      <td>염창공원</td>\n",
       "      <td>산과공원</td>\n",
       "      <td>서울 강서구 염창동 산24-1</td>\n",
       "      <td>서울특별시</td>\n",
       "      <td>강서구</td>\n",
       "      <td>염창동</td>\n",
       "      <td>02-2600-4186</td>\n",
       "      <td>NaN</td>\n",
       "      <td>NaN</td>\n",
       "      <td>NaN</td>\n",
       "    </tr>\n",
       "    <tr>\n",
       "      <th>4</th>\n",
       "      <td>BE_IW14-0112</td>\n",
       "      <td>영등포공원</td>\n",
       "      <td>산과공원</td>\n",
       "      <td>서울특별시 영등포구 영등포동 582-3번지</td>\n",
       "      <td>서울특별시</td>\n",
       "      <td>영등포구</td>\n",
       "      <td>영등포본동</td>\n",
       "      <td>02-2670-3715~7</td>\n",
       "      <td>NaN</td>\n",
       "      <td>NaN</td>\n",
       "      <td>NaN</td>\n",
       "    </tr>\n",
       "  </tbody>\n",
       "</table>\n",
       "</div>"
      ],
      "text/plain": [
       "              키             명칭   대분류  \\\n",
       "0  BE_IW14-0020  진관내동 생태경관보전지역  생태탐방   \n",
       "1  BE_IW14-0109           안산공원  산과공원   \n",
       "2  BE_IW14-0110          여의도공원  산과공원   \n",
       "3  BE_IW14-0111           염창공원  산과공원   \n",
       "4  BE_IW14-0112          영등포공원  산과공원   \n",
       "\n",
       "                                           주소   행정 시  행정 구   행정 동  \\\n",
       "0  은평구 진관동 282-1번지 일대(북한산국립공원 북한산성 입구 주변 습지 )  서울특별시   은평구    진관동   \n",
       "1                     서울특별시 서대문구 홍제동 산33번지 일대  서울특별시  서대문구   홍제1동   \n",
       "2                서울특별시 영등포구 여의공원로68(여의도동 2번지)  서울특별시  영등포구    여의동   \n",
       "3                            서울 강서구 염창동 산24-1  서울특별시   강서구    염창동   \n",
       "4                     서울특별시 영등포구 영등포동 582-3번지  서울특별시  영등포구  영등포본동   \n",
       "\n",
       "                         대표전화      면적            지정일  \\\n",
       "0  02-2115-7550~5 02-350-1397  16639㎡  2002년 12월 30일   \n",
       "1                 02-330-1395     NaN            NaN   \n",
       "2                 02-761-4079     NaN            NaN   \n",
       "3                02-2600-4186     NaN            NaN   \n",
       "4              02-2670-3715~7     NaN            NaN   \n",
       "\n",
       "                                                교툥안내  \n",
       "0  지하철 3호선 구파발역 1번 출구에서 704번 34번 버스를 타고 북한산성 입구에서...  \n",
       "1                                                NaN  \n",
       "2                                                NaN  \n",
       "3                                                NaN  \n",
       "4                                                NaN  "
      ]
     },
     "execution_count": 1,
     "metadata": {},
     "output_type": "execute_result"
    }
   ],
   "source": [
    "import pandas as pd\n",
    "import os\n",
    "import os.path\n",
    "import glob\n",
    "\n",
    "_dir = r'C:\\Users\\USER\\Downloads\\\\'\n",
    "files = glob.glob('{}/*.csv'.format(_dir))\n",
    "print(files)\n",
    "\n",
    "#csv파일을 dataframe으로 변환하기\n",
    "f = pd.read_csv(files[3])\n",
    "f.head()"
   ]
  },
  {
   "cell_type": "code",
   "execution_count": 2,
   "metadata": {
    "scrolled": true
   },
   "outputs": [
    {
     "name": "stdout",
     "output_type": "stream",
     "text": [
      "0             은평구 진관동 282-1번지 일대(북한산국립공원 북한산성 입구 주변 습지 )\n",
      "1                                서울특별시 서대문구 홍제동 산33번지 일대\n",
      "2                           서울특별시 영등포구 여의공원로68(여의도동 2번지)\n",
      "3                                       서울 강서구 염창동 산24-1\n",
      "4                                서울특별시 영등포구 영등포동 582-3번지\n",
      "5                        서울 송파구 오금동 5번지 (오금근린공원 관리사무소 옆)\n",
      "6                                       서울 강북구 번동 미아동 일대\n",
      "7                               서울 구로구 궁동 개봉동수궁동온수동오류동일대\n",
      "8                                        서울 송파구 방이동 88번지\n",
      "9                                  서울특별시 종로구 명륜동3가 산2-14\n",
      "10            (121-880) 서울특별시 마포구 창전동 3-193번지 일대(홍익대 뒷산)\n",
      "11                                   서울 마포구 합정동 145- 8일대\n",
      "12                    (130-070) 서울특별시 동대문구 용두동 34-1번지 일대\n",
      "13                                      서울 중랑구 면목동 산 1-4\n",
      "14                                    서울특별시 용산구 서빙고로 185\n",
      "15                                     서울 양천구 목동 산12-3일대\n",
      "16                                             방배동 산92-1\n",
      "17                                      서울 강서구 화곡동 산60-1\n",
      "18                    서울특별시 마포구 월드컵로 243-60(성산동 390-1)일대\n",
      "19                           (132-040) 서울특별시 도봉구 창동 28번지\n",
      "20                                        내곡동 산12-404 일원\n",
      "21                                    서울특별시 종로구 옥인동 산3-1\n",
      "22                        서울 강동구 동남로 660(둔촌동 산 140번지) 일대\n",
      "23                                     서울 영등포구 여의도동 56번지\n",
      "24                                     서울 송파구 장지동 산 11번지\n",
      "25     중랑캠핑장(중랑구 망우로 87길 110) / 중랑캠핑숲 공원관리사무소(중랑구 송림길...\n",
      "26                                 서울특별시 영등포구 영등포동2가 222\n",
      "27                                      서울 송파구 마천동 산 1-1\n",
      "28                                          송파구 마천동 산1-1\n",
      "29                          서울특별시 강동구 올림픽로 702(천호동360번지)\n",
      "                             ...                        \n",
      "115                       (156-090) 서울특별시 동작구 사당동 산24-17\n",
      "116                                   서울특별시 종로구 삼청동 산2-1\n",
      "117                                    서울특별시 동작구 상도동 산75\n",
      "118                       (121-270) 서울특별시 마포구 상암동 1693번지\n",
      "119                             서울시 관악구 대학동 산63-1일대 샘말공원\n",
      "120                        서울특별시 강동구 구천면로 429(명일동 288번지)\n",
      "121                      서울특별시 서대문구 통일로251(현저동 101번지) 일대\n",
      "122                   서울특별시 양천구 남부순환로 64길 20(신월동 149-20)\n",
      "123                                          진관동 389-3일대\n",
      "124                                    경기도 과천시 막계동 159-1\n",
      "125             (133-111) 서울특별시 성동구 뚝섬로 273(성수1가1동 685) \n",
      "126                                    서울특별시 광진구 능동로 216\n",
      "127                             서울시 도봉구 마들로 916(도봉동 4-2)\n",
      "128                        (137-130) 서울특별시 서초구 양재동 200번지\n",
      "129           (07200)서울시 영등포구 선유로 343 (당산동 1) 선유도공원관리사무소\n",
      "130                               서울특별시 성북구 돈암동 606번지 일대\n",
      "131                                서울특별시 성동구 성수2가 302-25\n",
      "132                             (110-430) 서울특별시 종로구 장사동 \n",
      "133                                 서울특별시 종로구 세종로 80-1번지\n",
      "134                       서울특별시 중구 손기정로 101(만리동2가 6-1번지)\n",
      "135                      (142-892) 서울특별시 강북구 우이동 80번지 일대\n",
      "136                                      서울 송파구 잠실동 47번지\n",
      "137                                        서울 노원구 상계동 일대\n",
      "138                             서울특별시 서초구 매헌로 99(양재동236)\n",
      "139                                           서울 은평구 신사동\n",
      "140                             132 - 030 서울 도봉구 쌍문동 산80\n",
      "141                                      서울 송파구 잠실동 84번지\n",
      "142                                               구의2동 3\n",
      "143                               서울특별시 강남구 영동2교 ~ 탄천합류부\n",
      "144                       중랑천 한강 합류부~중랑천 청계천 합류부(서울숲 서쪽)\n",
      "Name: 주소, Length: 145, dtype: object\n"
     ]
    }
   ],
   "source": [
    "address = f['주소']\n",
    "print(address)"
   ]
  },
  {
   "cell_type": "code",
   "execution_count": 23,
   "metadata": {},
   "outputs": [],
   "source": [
    "import googlemaps\n",
    "\n",
    "API_KEY = 'my_key'\n",
    "gmaps = googlemaps.Client(key=API_KEY)\n",
    "\n",
    "add = gmaps.geocode(address[3], language='ko')\n",
    "\n",
    "lat = add[0]['geometry']['location']['lat']\n",
    "lng = add[0]['geometry']['location']['lng']"
   ]
  },
  {
   "cell_type": "code",
   "execution_count": 34,
   "metadata": {},
   "outputs": [
    {
     "data": {
      "text/plain": [
       "<folium.map.Marker at 0xa6aea58>"
      ]
     },
     "execution_count": 34,
     "metadata": {},
     "output_type": "execute_result"
    }
   ],
   "source": [
    "import folium\n",
    "\n",
    "visualMap = folium.Map(location=[lat, lng], zoom_start=17)\n",
    "folium.Marker([lat, lng]).add_to(visualMap)"
   ]
  },
  {
   "cell_type": "code",
   "execution_count": 35,
   "metadata": {},
   "outputs": [
    {
     "data": {
      "text/html": [
       "<div style=\"width:100%;\"><div style=\"position:relative;width:100%;height:0;padding-bottom:60%;\"><iframe src=\"data:text/html;charset=utf-8;base64,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\" style=\"position:absolute;width:100%;height:100%;left:0;top:0;border:none !important;\" allowfullscreen webkitallowfullscreen mozallowfullscreen></iframe></div></div>"
      ],
      "text/plain": [
       "<folium.folium.Map at 0xa6aeac8>"
      ]
     },
     "execution_count": 35,
     "metadata": {},
     "output_type": "execute_result"
    }
   ],
   "source": [
    "visualMap"
   ]
  }
 ],
 "metadata": {
  "kernelspec": {
   "display_name": "Python 3",
   "language": "python",
   "name": "python3"
  },
  "language_info": {
   "codemirror_mode": {
    "name": "ipython",
    "version": 3
   },
   "file_extension": ".py",
   "mimetype": "text/x-python",
   "name": "python",
   "nbconvert_exporter": "python",
   "pygments_lexer": "ipython3",
   "version": "3.7.3"
  }
 },
 "nbformat": 4,
 "nbformat_minor": 2
}
